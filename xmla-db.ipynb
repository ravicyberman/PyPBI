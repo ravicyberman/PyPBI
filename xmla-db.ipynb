{
 "cells": [
  {
   "cell_type": "code",
   "execution_count": 1,
   "id": "97e939df",
   "metadata": {},
   "outputs": [],
   "source": [
    "import adodbapi"
   ]
  },
  {
   "cell_type": "code",
   "execution_count": 3,
   "id": "e85789a9",
   "metadata": {},
   "outputs": [
    {
     "ename": "OperationalError",
     "evalue": "(KeyError('Python string format error in connection string->'), 'Error opening connection to \"\"')",
     "output_type": "error",
     "traceback": [
      "\u001b[1;31m---------------------------------------------------------------------------\u001b[0m",
      "\u001b[1;31mValueError\u001b[0m                                Traceback (most recent call last)",
      "File \u001b[1;32mD:\\Ravi\\AppData\\Local\\Programs\\Python\\Python39\\lib\\site-packages\\adodbapi\\adodbapi.py:289\u001b[0m, in \u001b[0;36mConnection.connect\u001b[1;34m(self, kwargs, connection_maker)\u001b[0m\n\u001b[0;32m    287\u001b[0m \u001b[38;5;28;01mtry\u001b[39;00m:\n\u001b[0;32m    288\u001b[0m     \u001b[38;5;28mself\u001b[39m\u001b[38;5;241m.\u001b[39mconnection_string \u001b[38;5;241m=\u001b[39m (\n\u001b[1;32m--> 289\u001b[0m         \u001b[43mkwargs\u001b[49m\u001b[43m[\u001b[49m\u001b[38;5;124;43m\"\u001b[39;49m\u001b[38;5;124;43mconnection_string\u001b[39;49m\u001b[38;5;124;43m\"\u001b[39;49m\u001b[43m]\u001b[49m\u001b[43m \u001b[49m\u001b[38;5;241;43m%\u001b[39;49m\u001b[43m \u001b[49m\u001b[43mkwargs\u001b[49m\n\u001b[0;32m    290\u001b[0m     )  \u001b[38;5;66;03m# insert keyword arguments\u001b[39;00m\n\u001b[0;32m    291\u001b[0m \u001b[38;5;28;01mexcept\u001b[39;00m (\u001b[38;5;167;01mException\u001b[39;00m) \u001b[38;5;28;01mas\u001b[39;00m e:\n",
      "\u001b[1;31mValueError\u001b[0m: unsupported format character 'D' (0x44) at index 82",
      "\nDuring handling of the above exception, another exception occurred:\n",
      "\u001b[1;31mKeyError\u001b[0m                                  Traceback (most recent call last)",
      "File \u001b[1;32mD:\\Ravi\\AppData\\Local\\Programs\\Python\\Python39\\lib\\site-packages\\adodbapi\\adodbapi.py:122\u001b[0m, in \u001b[0;36mconnect\u001b[1;34m(*args, **kwargs)\u001b[0m\n\u001b[0;32m    121\u001b[0m \u001b[38;5;28;01mtry\u001b[39;00m:  \u001b[38;5;66;03m# connect to the database, using the connection information in kwargs\u001b[39;00m\n\u001b[1;32m--> 122\u001b[0m     \u001b[43mco\u001b[49m\u001b[38;5;241;43m.\u001b[39;49m\u001b[43mconnect\u001b[49m\u001b[43m(\u001b[49m\u001b[43mkwargs\u001b[49m\u001b[43m)\u001b[49m\n\u001b[0;32m    123\u001b[0m     \u001b[38;5;28;01mreturn\u001b[39;00m co\n",
      "File \u001b[1;32mD:\\Ravi\\AppData\\Local\\Programs\\Python\\Python39\\lib\\site-packages\\adodbapi\\adodbapi.py:292\u001b[0m, in \u001b[0;36mConnection.connect\u001b[1;34m(self, kwargs, connection_maker)\u001b[0m\n\u001b[0;32m    291\u001b[0m \u001b[38;5;28;01mexcept\u001b[39;00m (\u001b[38;5;167;01mException\u001b[39;00m) \u001b[38;5;28;01mas\u001b[39;00m e:\n\u001b[1;32m--> 292\u001b[0m     \u001b[38;5;28;43mself\u001b[39;49m\u001b[38;5;241;43m.\u001b[39;49m\u001b[43m_raiseConnectionError\u001b[49m\u001b[43m(\u001b[49m\n\u001b[0;32m    293\u001b[0m \u001b[43m        \u001b[49m\u001b[38;5;167;43;01mKeyError\u001b[39;49;00m\u001b[43m,\u001b[49m\u001b[43m \u001b[49m\u001b[38;5;124;43m\"\u001b[39;49m\u001b[38;5;124;43mPython string format error in connection string->\u001b[39;49m\u001b[38;5;124;43m\"\u001b[39;49m\n\u001b[0;32m    294\u001b[0m \u001b[43m    \u001b[49m\u001b[43m)\u001b[49m\n\u001b[0;32m    295\u001b[0m \u001b[38;5;28mself\u001b[39m\u001b[38;5;241m.\u001b[39mtimeout \u001b[38;5;241m=\u001b[39m kwargs\u001b[38;5;241m.\u001b[39mget(\u001b[38;5;124m\"\u001b[39m\u001b[38;5;124mtimeout\u001b[39m\u001b[38;5;124m\"\u001b[39m, \u001b[38;5;241m30\u001b[39m)\n",
      "File \u001b[1;32mD:\\Ravi\\AppData\\Local\\Programs\\Python\\Python39\\lib\\site-packages\\adodbapi\\adodbapi.py:345\u001b[0m, in \u001b[0;36mConnection._raiseConnectionError\u001b[1;34m(self, errorclass, errorvalue)\u001b[0m\n\u001b[0;32m    344\u001b[0m     eh \u001b[38;5;241m=\u001b[39m api\u001b[38;5;241m.\u001b[39mstandardErrorHandler\n\u001b[1;32m--> 345\u001b[0m \u001b[43meh\u001b[49m\u001b[43m(\u001b[49m\u001b[38;5;28;43mself\u001b[39;49m\u001b[43m,\u001b[49m\u001b[43m \u001b[49m\u001b[38;5;28;43;01mNone\u001b[39;49;00m\u001b[43m,\u001b[49m\u001b[43m \u001b[49m\u001b[43merrorclass\u001b[49m\u001b[43m,\u001b[49m\u001b[43m \u001b[49m\u001b[43merrorvalue\u001b[49m\u001b[43m)\u001b[49m\n",
      "File \u001b[1;32mD:\\Ravi\\AppData\\Local\\Programs\\Python\\Python39\\lib\\site-packages\\adodbapi\\apibase.py:54\u001b[0m, in \u001b[0;36mstandardErrorHandler\u001b[1;34m(connection, cursor, errorclass, errorvalue)\u001b[0m\n\u001b[0;32m     53\u001b[0m         \u001b[38;5;28;01mpass\u001b[39;00m\n\u001b[1;32m---> 54\u001b[0m \u001b[38;5;28;01mraise\u001b[39;00m errorclass(errorvalue)\n",
      "\u001b[1;31mKeyError\u001b[0m: 'Python string format error in connection string->'",
      "\nDuring handling of the above exception, another exception occurred:\n",
      "\u001b[1;31mOperationalError\u001b[0m                          Traceback (most recent call last)",
      "Input \u001b[1;32mIn [3]\u001b[0m, in \u001b[0;36m<module>\u001b[1;34m\u001b[0m\n\u001b[1;32m----> 1\u001b[0m conn \u001b[38;5;241m=\u001b[39m \u001b[43madodbapi\u001b[49m\u001b[38;5;241;43m.\u001b[39;49m\u001b[43mconnect\u001b[49m\u001b[43m(\u001b[49m\u001b[38;5;124;43m\"\u001b[39;49m\u001b[38;5;124;43mProvider=MSOLAP.8; \u001b[39;49m\u001b[38;5;130;43;01m\\\u001b[39;49;00m\n\u001b[0;32m      2\u001b[0m \u001b[38;5;124;43m Data Source = \u001b[39;49m\u001b[38;5;124;43m'\u001b[39;49m\u001b[38;5;124;43mpowerbi://api.powerbi.com/v1.0/myorg/Alchemy\u001b[39;49m\u001b[38;5;124;43m%\u001b[39;49m\u001b[38;5;124;43m20Datasets\u001b[39;49m\u001b[38;5;132;43;01m%20%\u001b[39;49;00m\u001b[38;5;124;43m5BTest\u001b[39;49m\u001b[38;5;124;43m%\u001b[39;49m\u001b[38;5;124;43m5D\u001b[39;49m\u001b[38;5;124;43m'\u001b[39;49m\u001b[38;5;124;43m; \u001b[39;49m\u001b[38;5;130;43;01m\\\u001b[39;49;00m\n\u001b[0;32m      3\u001b[0m \u001b[38;5;124;43m    initial catalog=\u001b[39;49m\u001b[38;5;124;43m'\u001b[39;49m\u001b[38;5;124;43mHERO UDM w/ partitions\u001b[39;49m\u001b[38;5;124;43m'\u001b[39;49m\u001b[38;5;124;43m \u001b[39;49m\u001b[38;5;124;43m\"\u001b[39;49m\u001b[43m)\u001b[49m\n",
      "File \u001b[1;32mD:\\Ravi\\AppData\\Local\\Programs\\Python\\Python39\\lib\\site-packages\\adodbapi\\adodbapi.py:126\u001b[0m, in \u001b[0;36mconnect\u001b[1;34m(*args, **kwargs)\u001b[0m\n\u001b[0;32m    124\u001b[0m \u001b[38;5;28;01mexcept\u001b[39;00m (\u001b[38;5;167;01mException\u001b[39;00m) \u001b[38;5;28;01mas\u001b[39;00m e:\n\u001b[0;32m    125\u001b[0m     message \u001b[38;5;241m=\u001b[39m \u001b[38;5;124m'\u001b[39m\u001b[38;5;124mError opening connection to \u001b[39m\u001b[38;5;124m\"\u001b[39m\u001b[38;5;132;01m%s\u001b[39;00m\u001b[38;5;124m\"\u001b[39m\u001b[38;5;124m'\u001b[39m \u001b[38;5;241m%\u001b[39m co\u001b[38;5;241m.\u001b[39mconnection_string\n\u001b[1;32m--> 126\u001b[0m     \u001b[38;5;28;01mraise\u001b[39;00m api\u001b[38;5;241m.\u001b[39mOperationalError(e, message)\n",
      "\u001b[1;31mOperationalError\u001b[0m: (KeyError('Python string format error in connection string->'), 'Error opening connection to \"\"')"
     ]
    }
   ],
   "source": [
    "conn = adodbapi.connect(\"Provider=MSOLAP.8; \\\n",
    " Data Source = 'powerbi://api.powerbi.com/v1.0/myorg/Alchemy%20Datasets%20%5BTest%5D'; \\\n",
    "    initial catalog='HERO UDM w/ partitions' \")"
   ]
  },
  {
   "cell_type": "code",
   "execution_count": null,
   "id": "e5709bfb",
   "metadata": {},
   "outputs": [],
   "source": []
  }
 ],
 "metadata": {
  "kernelspec": {
   "display_name": "Python 3 (ipykernel)",
   "language": "python",
   "name": "python3"
  },
  "language_info": {
   "codemirror_mode": {
    "name": "ipython",
    "version": 3
   },
   "file_extension": ".py",
   "mimetype": "text/x-python",
   "name": "python",
   "nbconvert_exporter": "python",
   "pygments_lexer": "ipython3",
   "version": "3.9.10"
  }
 },
 "nbformat": 4,
 "nbformat_minor": 5
}
